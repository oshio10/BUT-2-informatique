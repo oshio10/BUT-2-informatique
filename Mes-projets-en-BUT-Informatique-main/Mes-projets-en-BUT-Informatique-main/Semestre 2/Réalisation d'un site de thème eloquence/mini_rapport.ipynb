{
 "cells": [
  {
   "cell_type": "markdown",
   "metadata": {},
   "source": [
    "# SAE (semaine 18/10)\n",
    "\n",
    "##### -Maurice Prieto et Patrick Chen\n",
    "\n"
   ]
  },
  {
   "cell_type": "markdown",
   "metadata": {},
   "source": [
    "## Analyse general de la table “Titanic_train.csv”"
   ]
  },
  {
   "cell_type": "markdown",
   "metadata": {},
   "source": [
    "Tout d’abord l’on observe que la table titanic possède <b>12</b> attributs (<b>cardinalité</b>) dont  “Passerngerld”, “Survived”, “Pclass”, “Name”, “Sex”, “Age”, “SibSp”, “Parch”, “Ticket”, “Fare”, “Cabin”, “Embarked”.  On peut ainsi voir que la table possede <b>891</b> tuples (<b>degré</b>),On constate ensuite que la <i>clé du tableau</i> est “Passerngerld” car elle attribue un seul et unique numéro (dans l'ordre croissant) à chacun des passagers, à la différence d’autres où on n'aperçoit que du texte ou des nombres répétés.\n",
    "\n",
    "<b>resume</b>\n",
    "\n",
    "<blockquote>Cardinalité = 12</blockquote>\n",
    "<blockquote>Degré = 891</blockquote>"
   ]
  },
  {
   "cell_type": "markdown",
   "metadata": {},
   "source": [
    "### L’attribut “Survived”"
   ]
  },
  {
   "cell_type": "markdown",
   "metadata": {},
   "source": [
    "Il contient des <i><b>entiers</b></i> sous forme d'éléments binaires (seulement deux valeurs possibles), soit 0 ou 1. "
   ]
  },
  {
   "cell_type": "markdown",
   "metadata": {},
   "source": [
    "### L’attribut “Pclass” "
   ]
  },
  {
   "cell_type": "markdown",
   "metadata": {},
   "source": [
    "Possède quant à lui seulement 3 valeurs possibles, plus précisément des <i><b>entiers</b></i> (1,2,3)."
   ]
  },
  {
   "cell_type": "markdown",
   "metadata": {},
   "source": [
    "### L’attribut “Name”"
   ]
  },
  {
   "cell_type": "markdown",
   "metadata": {},
   "source": [
    "Il est composé de <i><b>texte</b></i>, du nom du passager suivi d’une virgule avec le prefixe de politesse “Mr” ou “Ms” et le prénom (on note que certains prénoms des femmes sont suivis, entre parenthèses, par d’autres prénoms, probablement leurs enfants). "
   ]
  },
  {
   "cell_type": "markdown",
   "metadata": {},
   "source": [
    "### L’attribut “Sex”"
   ]
  },
  {
   "cell_type": "markdown",
   "metadata": {},
   "source": [
    "Tout comme “Survived” contient des élements binaires “male” et “female”, cependant tout en étant du <i><b>texte</b></i>."
   ]
  },
  {
   "cell_type": "markdown",
   "metadata": {},
   "source": [
    "### L’attribut “Age”"
   ]
  },
  {
   "cell_type": "markdown",
   "metadata": {},
   "source": [
    "Il contient <i><b>des nombres entiers</b></i> variés qui correspondent, comme son nom l’indique, à l’age de chaque passagers (certains cases sont vides dû à l’absence des donnés)."
   ]
  },
  {
   "cell_type": "markdown",
   "metadata": {},
   "source": [
    "### L’attribut “SibSp”"
   ]
  },
  {
   "cell_type": "markdown",
   "metadata": {},
   "source": [
    "Il contient des <i><b>entiers</b></i> qui correspondent au nombre des “sibilings” (frères et soeurs) et “spouses” (époux)"
   ]
  },
  {
   "cell_type": "markdown",
   "metadata": {},
   "source": [
    "### L’attribut “Parch”\n"
   ]
  },
  {
   "cell_type": "markdown",
   "metadata": {},
   "source": [
    "Il correspond au nombre des “Parents” et “Children” (enfants) et contient aussi <i><b>des nombres entiers</b></i>."
   ]
  },
  {
   "cell_type": "markdown",
   "metadata": {},
   "source": [
    "### L’attribut “Ticket”"
   ]
  },
  {
   "cell_type": "markdown",
   "metadata": {},
   "source": [
    "En ce qui concerne l’attribut “Ticket”, les éléments sont de <i><b>texte</b></i> (et des nombres sous forme de texte)"
   ]
  },
  {
   "cell_type": "markdown",
   "metadata": {},
   "source": [
    "### L’attribut “Fare”"
   ]
  },
  {
   "cell_type": "markdown",
   "metadata": {},
   "source": [
    "Il s’agit d’un nombre <i><b>flottant</b></i> et correspond au frais de chaque billet acheté."
   ]
  },
  {
   "cell_type": "markdown",
   "metadata": {},
   "source": [
    "### L’attribut “Cabin”"
   ]
  },
  {
   "cell_type": "markdown",
   "metadata": {},
   "source": [
    "il contient des éléments qui ont chacun une lettre (<i><b>texte</b></i>) majuscule suivi d’un numéro, attribués aux passagers (on constate que certains ont plus d’une cabine)."
   ]
  },
  {
   "cell_type": "markdown",
   "metadata": {},
   "source": [
    "### L’attribut “Embarked”"
   ]
  },
  {
   "cell_type": "markdown",
   "metadata": {},
   "source": [
    "Il contient des éléments de <i><b>texte</b></i>, soit une des 3 lettres suivantes:  S, Q, C"
   ]
  }
 ],
 "metadata": {
  "kernelspec": {
   "display_name": "Python 3",
   "language": "python",
   "name": "python3"
  },
  "language_info": {
   "codemirror_mode": {
    "name": "ipython",
    "version": 3
   },
   "file_extension": ".py",
   "mimetype": "text/x-python",
   "name": "python",
   "nbconvert_exporter": "python",
   "pygments_lexer": "ipython3",
   "version": "3.7.4"
  }
 },
 "nbformat": 4,
 "nbformat_minor": 2
}
