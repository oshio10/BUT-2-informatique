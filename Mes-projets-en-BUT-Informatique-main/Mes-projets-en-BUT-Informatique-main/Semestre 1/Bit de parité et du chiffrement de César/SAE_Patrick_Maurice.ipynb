{
 "cells": [
  {
   "cell_type": "markdown",
   "metadata": {
    "deletable": false,
    "editable": false,
    "run_control": {
     "frozen": true
    }
   },
   "source": [
    "# SAE : Implémentation d'un besoin client\n",
    "# <center> Codage et décodage </center>"
   ]
  },
  {
   "cell_type": "markdown",
   "metadata": {
    "deletable": false,
    "editable": false,
    "run_control": {
     "frozen": true
    }
   },
   "source": [
    "L'objectif de ce projet est d'implanter différentes techniques de codage et décodage de l'information. \n",
    "Plus précisément, on s'intéressera ici à deux  méthodes qui ont des objectifs assez différents: \n",
    "- le **codage à bit de parité simple** qui permet de vérifier que l'information reçue n'a pas été altérée au cours de la transmission;\n",
    "- le **chiffrement de César** qui permet de chiffrer l'information à transmettre."
   ]
  },
  {
   "cell_type": "markdown",
   "metadata": {
    "deletable": false,
    "editable": false,
    "run_control": {
     "frozen": true
    }
   },
   "source": [
    "**Ce projet est à faire en binôme.**\n",
    "\n",
    "#### Planning\n",
    "- Pour le 4 octobre : implanter les fonctions de la partie préliminaire et comprendre le principe du codage à bit de parité simple. \n",
    "- Pour le 11 octobre : implanter les fonctions de ârtie codage à bit de parité simple et comprendre le principe du chiffrement de césar.\n",
    "- Pour le 18 octobre : implanter les fonctions et programmes des questions 1 à 5 de la partie chiffrement de César.\n",
    "- Pour le 24 octobre : implanter les fonctions et programmes des questions 6 à 8 de la partie chiffrement de César \n",
    "- **Rendu** : l'ensemble est à envoyer au plus tard le dimanche **24 octobre**.\n",
    "\n",
    "Pour chaque fonction demandée, un exemple d'appel ou des tests unitaires sont donnés de manière à vérifier la conformité de votre proposition.\n",
    "\n",
    "Lorsque l'on convertit des chaînes de caractères en nombres et *vice versa*, on a souvent recours à des **casts**. \n",
    "\n",
    "Lorsque l'on manipule des caractères, il est également utile d'accéder à leur unicode et *vice versa*. En Python, cela se fait via les fonctions `ord` et `chr` respectivement."
   ]
  },
  {
   "cell_type": "markdown",
   "metadata": {
    "deletable": false,
    "editable": false,
    "run_control": {
     "frozen": true
    }
   },
   "source": [
    "## Préliminaires\n",
    "\n",
    "Pour implanter les différentes méthodes de codage et décodage, certaines fonctions sont bien utiles. Ce sont ces fonctions qui font l'objet de cette partie préliminaire."
   ]
  },
  {
   "cell_type": "markdown",
   "metadata": {
    "deletable": false,
    "editable": false,
    "run_control": {
     "frozen": true
    }
   },
   "source": [
    "### Question 1 : Saisie contrôlée d'un entier positif\n",
    "Ecrire une fonction  de saisie contrôlée `saisieIntPos` demandant à l'utilisateur un entier positif ou nul et le lui redemandant jusqu'à ce que ce soit un entier positif ou nul."
   ]
  },
  {
   "cell_type": "code",
   "execution_count": 1,
   "metadata": {},
   "outputs": [],
   "source": [
    "def saisieIntPos():\n",
    "    
    "    entier = int(input(\"Saisir un entier positif ou nul: \"))\n",
    "    while entier < 0 :\n",
    "        entier = int(input(\"Saisir un entier positif ou nul: \"))\n",
    "    return entier"
   ]
  },
  {
   "cell_type": "code",
   "execution_count": 3,
   "metadata": {},
   "outputs": [
    {
     "name": "stdout",
     "output_type": "stream",
     "text": [
      "Saisir un entier positif ou nul: -1\n",
      "Saisir un entier positif ou nul: 2\n",
      "l'entier saisi est 2\n"
     ]
    }
   ],
   "source": [
    "# ------------  TEST/EXEMPLE ---------- #\n",
    "print(\"l'entier saisi est\", saisieIntPos())"
   ]
  },
  {
   "cell_type": "markdown",
   "metadata": {
    "deletable": false,
    "editable": false,
    "run_control": {
     "frozen": true
    }
   },
   "source": [
    "### Question 2 : Saisie d'un entier positif  qui s'écrit sur 10 bits\n",
    "Le plus grand entier positif que l'on puisse écrire en binaire sur 10 bits est 1023 (car 10000000000 en binaire vaut 1024 en décimal).\n",
    "\n",
    "Ecrire une fonction  de saisie contrôlée `saisieIntPos10Bits` demandant à l'utilisateur un entier compris entre 0 (inclus) et 1023 (inclus) et lui redemandant un entier jusqu'à ce que ce soit qu'il soit correct."
   ]
  },
  {
   "cell_type": "code",
   "execution_count": 4,
   "metadata": {},
   "outputs": [],
   "source": [
    "def saisieIntPos10Bits():\n",

    "    entier =int(input(\"Saisir un nombre entre 0 et 1023: \"))\n",
    "    while entier < 0 or entier > 1023 :\n",
    "        entier =int(input(\"Saisir un nombre entre 0 et 1023:  \"))\n",
    "    return entier"
   ]
  },
  {
   "cell_type": "code",
   "execution_count": 6,
   "metadata": {},
   "outputs": [
    {
     "name": "stdout",
     "output_type": "stream",
     "text": [
      "Saisir un nombre entre 0 et 1023: -1\n",
      "Saisir un nombre entre 0 et 1023:  1024\n",
      "Saisir un nombre entre 0 et 1023:  1023\n",
      "l'entier saisi est 1023\n"
     ]
    }
   ],
   "source": [
    "# ------------  TEST/EXEMPLE ---------- #\n",
    "print(\"l'entier saisi est\",saisieIntPos10Bits())"
   ]
  },
  {
   "cell_type": "markdown",
   "metadata": {
    "deletable": false,
    "editable": false,
    "run_control": {
     "frozen": true
    }
   },
   "source": [
    "### Question 3 : Saisie contrôlée d'un entier compris entre a et b\n",
    "Ecrire une fonction  de saisie contrôlée `saisieIntab` demandant à l'utilisateur un entier compris entre a (inclus) et b (inclus) et lui redemandant un entier jusqu'à ce que ce soit qu'il soit dans le bon intervalle.\n",
    "\n",
    "On ne vérifiera pas que a est plus petit que b."
   ]
  },
  {
   "cell_type": "code",
   "execution_count": null,
   "metadata": {},
   "outputs": [],
   "source": [
    "def saisieIntab (a, b):\n",

    "    print(\"Saisir un nombre entre\", a, \"et\", b,\": \") \n",
    "    x = int(input())\n",
    "    while x < a or x > b :\n",
    "        print(\"Saisir un nombre entre\", a, \"et\", b,\": \")\n",
    "        x = int(input())\n",
    "    return x"
   ]
  },
  {
   "cell_type": "code",
   "execution_count": null,
   "metadata": {},
   "outputs": [],
   "source": [
    "# ------------  TEST/EXEMPLE ---------- #\n",
    "print(\"l'entier saisi est\",saisieIntab(1,25))"
   ]
  },
  {
   "cell_type": "markdown",
   "metadata": {},
   "source": [
    "### Question 4 : Verification de la binarité d'une chaîne\n",
    "Ecrire une fonction `verifBin` qui permet de vérifier qu'une chaîne de caractères ne contient que des `0` et des `1`.\n",
    "Elle prendra en paramètre une chaîne de caractère `s_bin` et retournera `True` si la chaîne n'est composée que de`0` et de `1` et `False` sinon."
   ]
  },
  {
   "cell_type": "code",
   "execution_count": 7,
   "metadata": {},
   "outputs": [],
   "source": [
    "def verifBin(s_bin):\n",

    "    char = 0  # on parcourt la chaine s_bin de caractere en caractere pour verifier qu'elle ne contient que des 0 et des 1\n",
    "    while char < len(s_bin):\n",
    "        if s_bin[char]!=\"0\" and s_bin[char]!=\"1\":  # si le caractere à l'indice char n'est pas 1 et 0 alors, on retourne False\n",
    "            return False \n",
    "        char += 1\n",
    "    return True # la chaine n'est composee que de 1 et de 0"
   ]
  },
  {
   "cell_type": "code",
   "execution_count": 8,
   "metadata": {},
   "outputs": [
    {
     "name": "stdout",
     "output_type": "stream",
     "text": [
      "test ok\n"
     ]
    }
   ],
   "source": [
    "# ------------  TEST/EXEMPLE ---------- #\n",
    "def test_verifBin():\n",
    "    assert verifBin('0000')\n",
    "    assert verifBin('0110')\n",
    "    assert not verifBin('2981')\n",
    "    assert not verifBin('andei')\n",
    "    assert not verifBin('2&@')\n",
    "    print(\"test ok\")\n",
    "\n",
    "test_verifBin()"
   ]
  },
  {
   "cell_type": "markdown",
   "metadata": {},
   "source": [
    "### Question 5 : Conversion d'un nombre décimal en binaire \n",
    "\n",
    "Pour transmettre l'information, on est souvent amené à convertir en binaire des nombres décimaux. Par exemple, Le nombre `13` écrit en base 10 se code `1101` en binaire.\n",
    "\n",
    "*Comment effectuer ce codage ?*\n",
    "\n",
    "On peut utiliser la méthode des divisions successives par 2.\n",
    "\n",
    "**Rappels :** En Python,\n",
    "- le quotient d'une division euclidienne s'obtient en utilisant l'opérateur `//` ; ainsi `5//2=2`\n",
    "- le reste d'une division euclidienne s'obtient en utilisant l'opérateur `%`; ainsi `5%2=1`\n",
    "\n",
    "```\n",
    "   \t             .\n",
    "   \t            / \\   <--- sens de lecture des restes pour former le nombre binaire\n",
    "13 // 2   = 6   \t|   \n",
    "13 %  2   = 1    |   reste = 1\n",
    "                 |\n",
    "6 // 2    = 3   \t|   \n",
    "6  %  2   = 0   \t|   reste = 0\n",
    "                 |  \n",
    "3 // 2    = 1    |   \n",
    "3 %  2    = 1    |   reste = 1\n",
    "                 |\n",
    "1  // 2   = 0  \t |                  <---- On arrête, car le quotient est égal à 0\n",
    "1  % 2    = 1    |   reste = 1\n",
    "   \t             |                  \n",
    "Le nombre 13 en base 10 se code 1101 en binaire.\n",
    "```\n",
    "\n",
    "Ecrire une fonction `int2bin` prenant en paramètre un entier positif `n` écrit en base 10  et retournant une chaine de caractères correspondant à ce nombre codé en binaire en utilisant la méthode des divisions successives.\n",
    "\n",
    "On pensera à procéder à d'éventuels casts dans la fonction. On fera également attention au sens dans lequel on procède aux concaténations de chaînes de caractères.\n",
    "\n",
    "Voici le prototype de la fonction :\n",
    "```python\n",
    "def int2bin(n):\n",
    "    \"\"\"\n",
    "    :param n: nombre en base 10 à convertir en binaire\n",
    "    :return: str contient la representation binaire de n\n",
    "    \"\"\"\n",
    "```\n",
    "**Note :** Aucun test ne sera fait dans la fonction pour vérifier la validité du paramètre."
   ]
  },
  {
   "cell_type": "code",
   "execution_count": 9,
   "metadata": {},
   "outputs": [],
   "source": [
    "def int2bin(n):\n",

    "    nb_Bin = \"\"\n",
    "    if n==0:                    # si le nombre n = 0 en base 2 est égal à lui-même soit 0\n",
    "        return \"0\"\n",
    "    while n > 0:               # lorsque le divisé est égal à 0, on arrête les divisions successives\n",
    "        reste = n%2           # le reste de la division est concaténé à la chaine\n",
    "        nb_Bin += str(reste) # le quotient de la division devient le nouveau divisé \n",
    "        n = n//2            # on divise par 2 car on veut un nombre en base 2 (binaire) \n",
    "                           \n",
    "    return nb_Bin[::-1]    # on obtient la séquence inverse(à l'aide d'un pas de -1)  "
   ]
  },
  {
   "cell_type": "code",
   "execution_count": 10,
   "metadata": {},
   "outputs": [
    {
     "name": "stdout",
     "output_type": "stream",
     "text": [
      "test OK\n"
     ]
    }
   ],
   "source": [
    "# ------------  TEST/EXEMPLE ---------- #\n",
    "def test_int2bin():\n",
    "    assert int2bin(0)=='0'\n",
    "    assert int2bin(7)=='111'\n",
    "    assert int2bin(16)=='10000'\n",
    "    print(\"test OK\")\n",
    "    \n",
    "test_int2bin()"
   ]
  },
  {
   "cell_type": "markdown",
   "metadata": {
    "deletable": false,
    "editable": false,
    "run_control": {
     "frozen": true
    }
   },
   "source": [
    "## 1ère Partie : Code à parité simple\n",
    "\n",
    "\n",
    "Dans la technologie des objets de l'internet (IOT), il faut souvent transmettre des informations de capteurs  (par exemple, d'un capteur de température) vers un serveur (par exemple un serveur broker MQTT/*Message Queuing Telemetry Transport*).\n",
    "\n",
    "Dans ce qui suit, on développe les outils logiciels qui interviennent dans la transmission d'un nombre entier (écrit en base 10).\n",
    "\n",
    "Dans la partie préliminaire, une fonction de conversion de décimal en binaire a été définie. On sait donc comment mettre sous forme binaire l'information à transmettre. "
   ]
  },
  {
   "cell_type": "markdown",
   "metadata": {
    "deletable": false,
    "editable": false,
    "run_control": {
     "frozen": true
    }
   },
   "source": [
    "### Question 1 : Calcul du bit de parité\n",
    "\n",
    "Lors d'une transmission, des erreurs peuvent se produire (dûes à des interférences par exemple). La technique dite du bit de parité permet de détecter simplement certaines erreurs.\n",
    "\n",
    "**Principe :**\n",
    "- comptage du nombre de `1` dans la représentation binaire d'une information,\n",
    "- calcul du bit de parité : si le nombre de `1` est impair, le bit de parité vaut 1, sinon il vaut 0.\n",
    "\n",
    "**Exemple :**\n",
    "```\n",
    "information = 1101\n",
    "bit de parité  ---> 1\n",
    "```\n",
    "Ecrire une fonction `parite` prenant en paramètres une chaine de caractères représentant une information binaire et qui retourne `True` si le bit de parité vaut 1 (*i.e.*, si le nombre de 1 est impair), `False` sinon.\n",
    "\n",
    "Voici le prototype de la fonction :\n",
    "```python\n",
    "def parite(str_bin):\n",
    "    \"\"\"\n",
    "    Calcul du bit de parité du nombre binaire\n",
    "    :param str_bin: str contenant la représentation binaire d'un nombre\n",
    "    :return : bool, True -> bit de parité à 1, False -> bit de parité à 0\n",
    "    \"\"\"\n",
    "```"
   ]
  },
  {
   "cell_type": "code",
   "execution_count": 11,
   "metadata": {},
   "outputs": [],
   "source": [
    "def parite(str_bin):\n",

    "    nombre_de_1 = str_bin.count('1')  # str_bin.count('1') compte le nombre de 1 dans str_bin\n",
    "    if nombre_de_1 % 2 == 1:         # si le nombre de 1 est impair : le bit de parité vaut 1\n",
    "        return True           \n",
    "    return False                    # si le nombre de 1 est pair : bit de parité vaut 0"
   ]
  },
  {
   "cell_type": "code",
   "execution_count": 12,
   "metadata": {},
   "outputs": [
    {
     "name": "stdout",
     "output_type": "stream",
     "text": [
      "test ok\n"
     ]
    }
   ],
   "source": [
    "# ------------  TEST/EXEMPLE ---------- #\n",
    "def test_parite():\n",
    "    assert not parite('0000')\n",
    "    assert parite('10000')\n",
    "    assert not parite('1010')\n",
    "    assert parite('11111')\n",
    "    print(\"test ok\")\n",
    "    \n",
    "test_parite()"
   ]
  },
  {
   "cell_type": "markdown",
   "metadata": {
    "deletable": false,
    "editable": false,
    "run_control": {
     "frozen": true
    }
   },
   "source": [
    "### Question 2 : Constitution de la trame à envoyer\n",
    "\n",
    "La trame à envoyer pour transmettre l'information est constituée de 11 bits :\n",
    "- le bit le plus à gauche (de poids le plus fort) est le bit de parité ;\n",
    "- les autres bits représentent l'information. Si l'information n'occupe pas tous les bits alors des `0` seront rajoutés en tête, par exemple si l'information n'occupe réellement que 4 bits (bit 0 à bit 3), tous les autres bits de poids supérieurs (bit 4 à bit 10) seront mis à zéro.\n",
    "\n",
    "**Exemple :**\n",
    "```\n",
    "information = 1101\n",
    "bit de parité ---> 1\n",
    "la trame à envoyer est donc 10000001101\n",
    "```\n",
    "\n",
    "Ecrire une fonction `trame` prenant un nombre entier compris entre 0 et 1023 (c'est le nombre décimal maximal codable sur 10 bits) et qui retourne une chaîne de caractères correspondant à la trame qui sera effectivement envoyée.\n",
    "\n",
    "Voici le prototype de la fonction :\n",
    "```python\n",
    "def trame(n):\n",
    "    \"\"\"\n",
    "    Contruit une trame sur 11 bits sous la forme\n",
    "    bit parite | bit 10 | bit 9 | .... | bit 1 | bit 0 |\n",
    "    bit parite : est le bit de parité\n",
    "    bit 10 à bit 0 : information à transmettre\n",
    "    :param n: entier (en base 10) à transmettre dans la trame\n",
    "    :return : str, trame sur 11 bits qui sera transmise\n",
    "    \"\"\"\n",
    "```\n",
    "**Note :** Aucun test ne sera fait dans la fonction pour vérifier la validité du paramètre."
   ]
  },
  {
   "cell_type": "code",
   "execution_count": 13,
   "metadata": {},
   "outputs": [],
   "source": [
    "def trame(n):\n",
    "    \"\"\"\n",

    "    n2bin = int2bin(n)     # convertir n en base 2, n2bin veut dire n into binaire\n",
    "    while len(n2bin) < 10: \n",
    "        n2bin = '0' + n2bin       # zero ajoutes en tete si l'information soit n2bin n'occupe pas 10 bits\n",
    "    if parite(n2bin) == False:   # si le nombre de 1 dans n2bin est pair et le bit de parité à 0\n",
    "        n2bin = '0' + n2bin     # on ajoute 0 en tete de l'information n2bin et on retourne la valeur obtenue qui sera la trame\n",
    "        return n2bin\n",
    "    else:                      # si le nombre de 1 dans n2bin est impair et le bit de parité à 1\n",
    "        n2bin = '1' + n2bin   # on ajoute 1 en tete de l'information n2bin et on retourne la valeur obtenue qui sera la trame\n",
    "        return n2bin"
   ]
  },
  {
   "cell_type": "code",
   "execution_count": 14,
   "metadata": {},
   "outputs": [
    {
     "name": "stdout",
     "output_type": "stream",
     "text": [
      "test ok\n"
     ]
    }
   ],
   "source": [
    "# ------------  TEST/EXEMPLE ---------- #\n",
    "def test_trame():\n",
    "    assert trame(10)=='00000001010'\n",
    "    assert trame(16)=='10000010000'\n",
    "    assert trame(31)=='10000011111'\n",
    "    assert trame(0)=='00000000000'\n",
    "    print(\"test ok\")\n",
    "\n",
    "test_trame()"
   ]
  },
  {
   "cell_type": "markdown",
   "metadata": {
    "deletable": false,
    "editable": false,
    "run_control": {
     "frozen": true
    }
   },
   "source": [
    "### Question 3 : Vérification de la validité de la trame reçue\n",
    "\n",
    "Lors de la réception du message, on peut tester s'il n'y a pas eu de problème de transmission du message en vérifiant que la trame est correcte. Il faut en effet que le bit de parité corresponde bien au 10 bits qui le précède. \n",
    "\n",
    "- Ecrire une fonction `verifTrame` prenant une chaîne de 11 caractères binaires et qui retourne `True` si la trame est correcte (*i.e*, la chaîne est de longueur 11, elle est composée de `0`et de `1` et que le premier bit correspond bien au bit de parité des 10 bit précédents et `False` sinon. \n",
    "- Ecrire également une fonction `test_verifTrame` de tests unitaires permettant de vérifier la conformité de la fonction `verifTram`.\n",
    "\n",
    "Voici le prototype de la fonction :\n",
    "```python\n",
    "def verifTrame(trm):\n",
    "    \"\"\"\n",
    "    Vérifie si la chaine est binaire, de longueur 11, et que le \n",
    "    premier bit est le bit de parité des 10 bit précédents\n",
    "    :param trm: une chaine de caractères \n",
    "    :return : bool, True -> c'est une trame de code de parité, \n",
    "    False sinon \n",
    "    \"\"\"\n",
    "```\n",
    "On pensera à utiliser la fonction `verifBin()` définie dans la partie préliminaire."
   ]
  },
  {
   "cell_type": "code",
   "execution_count": 17,
   "metadata": {},
   "outputs": [],
   "source": [
    "def verifTrame(trm):\n",

    "    if len(trm) == 11:               # Si la chaine trm est de longueur 11 alors c'est une trame\n",
    "        if trm[0] == '1' or '0':    # Si le premier bit est 1 ou 0, c'est le bit de parité de la trame trm\n",
    "            if verifBin(trm):      # Si la trame trm est binaire alors on retourne True car on respecte toutes les conditions\n",
    "                return True       # pour qu'une trame soit valide\n",
    "    return False                 # Si l'une des trois conditions n'est pas respectée, la trame trm n'est pas valide"
   ]
  },
  {
   "cell_type": "code",
   "execution_count": 18,
   "metadata": {},
   "outputs": [
    {
     "name": "stdout",
     "output_type": "stream",
     "text": [
      "la trame est valide\n"
     ]
    }
   ],
   "source": [
    "# ------------  TEST/EXEMPLE ---------- #\n",
    "if verifTrame('00000001010'):\n",
    "    print(\"la trame est valide\")\n",
    "else :\n",
    "    print(\"erreur\")"
   ]
  },
  {
   "cell_type": "code",
   "execution_count": 19,
   "metadata": {},
   "outputs": [
    {
     "name": "stdout",
     "output_type": "stream",
     "text": [
      "la trame est valide\n"
     ]
    }
   ],
   "source": [
    "def test_veriftrame():\n",
    "    assert not verifTrame('0000')\n",
    "    assert verifTrame('00000011110')\n",
    "    assert verifTrame('10000000100')\n",
    "    print(\"la trame est valide\")\n",
    "    \n",
    "test_veriftrame()"
   ]
  },
  {
   "cell_type": "markdown",
   "metadata": {},
   "source": [
    "### Question 4 : Décodage de la trame reçue \n",
    "Après avoir vérifié que la trame est correcte, il reste à décoder l'information.\n",
    "- Ecrire une fonction `decodeTrame()`qui prend en paramètre une trame que l'on suppose correcte et qui retourne sous forme décimale l'information contenue dans cette trame, *i.e* l'entier qui est codé en binaire.\n",
    "- Ecrire également une fonction `test_decodeTrame` de tests unitaires permettant de vérifier la conformité de la fonction `decodeTram`."
   ]
  },
  {
   "cell_type": "code",
   "execution_count": 26,
   "metadata": {},
   "outputs": [],
   "source": [
    "def decodeTrame(trm):\n",

    "    trm = trm[1::]                                    # on retire le bit de parite de la trame trm  = information \n",
    "    decimal = 0                                      # decimal est l'information binaire convertie en décimal\n",
    "    for numero_val_trame, val in enumerate(trm):    # numero_val_trame est le numero de la valeur dans la trame(ordre croissant)\n",
    "        n = 2 ** (len(trm) - numero_val_trame -1)  # n correspond à 2^poids du bit\n",
    "        decimal += int(val) * n                   # val est 0 ou 1 donc on le cast en int\n",
    "    return decimal                               # le nombre en décimal est la somme des val * n"
   ]
  },
  {
   "cell_type": "code",
   "execution_count": 27,
   "metadata": {},
   "outputs": [
    {
     "name": "stdout",
     "output_type": "stream",
     "text": [
      "00000001010 est le codage de  10\n"
     ]
    }
   ],
   "source": [
    "# ------------  TEST/EXEMPLE ---------- #\n",
    "print(\"00000001010 est le codage de \", decodeTrame(\"00000001010\"))"
   ]
  },
  {
   "cell_type": "code",
   "execution_count": 28,
   "metadata": {},
   "outputs": [
    {
     "name": "stdout",
     "output_type": "stream",
     "text": [
      "test ok\n"
     ]
    }
   ],
   "source": [
    "def test_decodeTrame():\n",
    "    assert decodeTrame('00000001010') == 10\n",
    "    assert decodeTrame('10000010000') == 16\n",
    "    assert decodeTrame('10000011111') == 31\n",
    "    assert decodeTrame('00000000000') == 0\n",
    "    print(\"test ok\")\n",
    "test_decodeTrame()"
   ]
  },
  {
   "cell_type": "markdown",
   "metadata": {
    "deletable": false,
    "editable": false,
    "run_control": {
     "frozen": true
    }
   },
   "source": [
    "### Question 5 : Programme principal\n",
    "On souhaite pouvoir transmettre des nombres entre 0 et 1023 (qui est le plus grand entier que l'on écrire sur 10 bits).\n",
    "\n",
    "- Demander à l'utilisateur de saisir un nombre en utilisant la fonction de saisie contrôlée appropriée définie dans la partie préliminaire.\n",
    "- Coder ce nombre selon le codage à bit de parité simple à l'aide de la fonction définie précédemment.\n",
    "- Afficher ce codage.\n",
    "- Après avoir vérifié que la trame est correcte, decoder l'information à l'aide de la fonction définie pour cela.\n",
    "- Afficher le nombre obtenu.\n",
    "- Vérifier qu'il s'agit du nombre initial."
   ]
  },
  {
   "cell_type": "markdown",
   "metadata": {},
   "source": [
    "### Commentaires du programme principal\n",
    "\n",
    "**ligne1** : on conserve le nombre retourné par la fonction saisieIntPos10Bits définie précédemment \n",
    "\n",
    "**ligne3** : on donne ici la trame envoyée par ce nombre puis on l'affiche en dessous\n",
    "\n",
    "**ligne5** : on vérifie la validité de la trame envoyée\n",
    "\n",
    "**ligne6** : si la trame est valide( if verifTram(trame_binaire) ) , on décode l'information et on l'affiche ensuite\n",
    "\n",
    "**ligne8** : on vérifie si le nombre décodé correspond au nombre saisi en début de programme, si oui on l'affiche"
   ]
  },
  {
   "cell_type": "code",
   "execution_count": 34,
   "metadata": {},
   "outputs": [
    {
     "name": "stdout",
     "output_type": "stream",
     "text": [
      "Saisir un nombre entre 0 et 1023: 25\n",
      "-------------\n",
      "Codage: 10000011001 \n",
      "-------------\n",
      "Decodage: 25\n",
      "-------------\n",
      "On obtient le nombre initial : 25\n"
     ]
    }
   ],
   "source": [
    "nombre = saisieIntPos10Bits()\n",
    "print(\"-------------\")\n",
    "trame_binaire = trame(nombre) \n",
    "print(\"Codage:\", trame_binaire,\"\\n-------------\")\n",
    "if veriftrame(trame_binaire):   \n",
    "    nombre_decode = decodetrame(trame_binaire) \n",
    "    print(\"Decodage:\", nombre_decode)\n",
    "    assert nombre_decode == nombre\n",
    "    print(\"-------------\\nOn obtient le nombre initial :\", nombre_decode)\n",
    "else:\n",
    "    print('trame incorrecte')"
   ]
  },
  {
   "cell_type": "markdown",
   "metadata": {},
   "source": [
    "## 2ème partie : Chiffrement de César"
   ]
  },
  {
   "cell_type": "markdown",
   "metadata": {
    "deletable": false,
    "editable": false,
    "run_control": {
     "frozen": true
    }
   },
   "source": [
    "Le chiffrement de César est une des plus anciennes méthodes de cryptographie. Il repose sur la rotation vers la droite de l’alphabet d’un nombre fixé de caractères. \n",
    "\n",
    "Par exemple, si on considère une rotation de 3 positions, on obtient pour les lettres minuscules la table de conversion ci-dessous :\n",
    "\n",
    "\n",
    "\n",
    "|lettre originale|a|b|c|d|e|f|g|h|i|j|k|l|m|n|o|p|q|r|s|t|u|v|w|x|y|z|\n",
    "|----------------|-|-|-|-|-|-|-|-|-|-|-|-|-|-|-|-|-|-|-|-|-|-|-|-|-|-|\n",
    "|lettre codée    |d|e|f|g|h|i|j|k|l|m|n|o|p|q|r|s|t|u|v|w|x|y|z|a|b|c|\n",
    "\n",
    "On a une table analogue pour les lettres majuscules. Les autres caractères ne sont pas cryptés mais simplement recopiés. \n",
    " \n",
    "Pour la rotation de 3 positions, si la phrase à chiffrer est `bonjour, il fait beau`, le message chiffré est alors `erqmrxu, lo idlw ehdx`. \n",
    "\n",
    "Il est bien sûr possible de changer le nombre de positions\n",
    "correspondant à la rotation. Ainsi, si l'on décide de décaler d'une seule position, le même message est alors chiffré en `cpokpvs jm gbju cfbv`. \n",
    "\n",
    "Le nombre correspondant à la rotation est appelé la *clé* du code\n",
    "car il permet le déchiffrementdu message. *La clé est un entier\n",
    "  compris entre 1 et 25*.\n",
    "\n",
    "L'objectif est d'écrire des fonctions de chiffrement et de déchiffrement de textes pour le code de César."
   ]
  },
  {
   "cell_type": "markdown",
   "metadata": {
    "deletable": false,
    "editable": false,
    "run_control": {
     "frozen": true
    }
   },
   "source": [
    "### Question 1 : Chiffrement d'un caractère\n",
    "Ecrire une fonction `chiffreCar_cesar` prenant en paramètres\n",
    "un caractère et la clé de chiffrement.  Cette fonction retournera le\n",
    "caractère codé si le caractère est une lettre minuscule ou majuscule. Sinon, la fonction renverra le caractère initial.  Ainsi `chiffreCar_cesar('a',3)` renvoie `'d'`, `chiffreCar_cesar('d', 23)` renvoie `'a'`, `chiffreCar_cesar('C',4)` renvoie `'G'`.\n",
    "\n",
    "**Indications :** \n",
    "On rappelle que l'on peut comparer des caractères avec les opérateurs `<,>, ==`et `!=`.\n",
    "\n",
    "La fonction `ord(c)` retourne le code Unicode du caractère `c` et la fonction `chr(i)` retourne la lettre dont le code Unicode est `i`. Par exemple :\n",
    "  ```python\n",
    "  uni = ord(\"a\") # uni vaut 97 car l'unicode de \"a\" est 97\n",
    "  lettre = chr(98)  # lettre vaut \"b\" car 98 est son unicode\n",
    "  print( chr(ord(\"a\")) == \"a\") # affiche True\n",
    "  ```\n",
    "  \n",
    "On rappelle que les unicodes des lettres minuscules sont consécutifs, compris entre 97 et 122  et suivent l'ordre alphabétique :  l'unicode de `'a'` est 97, celui de `'b'` est 98, etc, celui de `'z'` est 12. Il en est de même pour les unicodes des lettres majuscules qui varient de 65 pour `'A'`à 90 pour `'Z'`."
   ]
  },
  {
   "cell_type": "markdown",
   "metadata": {},
   "source": [
    "## Commentaires de chiffreCar_cesar\n",
    "\n",
    "**ligne2** : code correspond au code ASCII du caractère\n",
    "\n",
    "**ligne3** : Si le caractère n'est pas une majuscule ou n'est pas une minuscule, on le renvoi sans le chiffrer\n",
    "\n",
    "**ligne6** : Si le code ASCII caractère décalé est plus grand que 'z' ou que si le code ASCII du caractère décalé est plus grand que 'Z' et de base une majuscule alors on fait un décalage inverse de 26 pour rester avoir une minuscule dans le premier cas et une majuscule dans le deuxième cas mais pas autre chose que des lettres non accentuées.\n",
    "\n",
    "**ligne8** : on retourne le caractère décalé grace à la fonction chr()"
   ]
  },
  {
   "cell_type": "code",
   "execution_count": 31,
   "metadata": {},
   "outputs": [],
   "source": [
    "def chiffreCar_cesar(caractere, cle_chiffrement):\n",

    "    code = ord(caractere)\n",
    "    if code < 65 or code > 122 or code > 90 and code < 97 :\n",
    "        return caractere\n",
    "    caractere_code = code + cle_chiffrement\n",
    "    if caractere_code > 122 or (code >= 65 and code <= 90) and caractere_code > 90:\n",
    "        caractere_code -= 26\n",
    "    return chr(caractere_code)"
   ]
  },
  {
   "cell_type": "code",
   "execution_count": 32,
   "metadata": {},
   "outputs": [
    {
     "name": "stdout",
     "output_type": "stream",
     "text": [
      "test OK\n"
     ]
    }
   ],
   "source": [
    "# ------------  TEST/EXEMPLE ---------- #\n",
    "def test_chiffreCar_cesar():\n",
    "    assert chiffreCar_cesar('a',3)=='d'\n",
    "    assert chiffreCar_cesar('d', 23) =='a'\n",
    "    assert chiffreCar_cesar('C',4)=='G'\n",
    "    assert chiffreCar_cesar('@',17)=='@'\n",
    "    print(\"test OK\")\n",
    "    \n",
    "test_chiffreCar_cesar()"
   ]
  },
  {
   "cell_type": "markdown",
   "metadata": {
    "deletable": false,
    "editable": false,
    "run_control": {
     "frozen": true
    }
   },
   "source": [
    "### Question 2 : Chiffrement d'une chaîne de caractères\n",
    "\n",
    "En utilisant la fonction `chiffreCar_cesar`, écrire une fonction `chiffre_cesar` qui prend en paramètres une chaîne de caractères et la clé de chiffrement et qui retourne la chaîne chiffrée. "
   ]
  },
  {
   "cell_type": "markdown",
   "metadata": {},
   "source": [
    "## Commentaires de chiffre_cesar\n",
    "\n",
    "**ligne2** : chaine_chiffree sera la chaine chiffrée et est initialement vide\n",
    "\n",
    "**ligne3** : char correspond au caractère de la chaine en paramètre.\n",
    "Avec la boucle for, on parcourt la chaine de caractère en caractère\n",
    "\n",
    "**ligne4** : on ajoute à la chaine chiffré un par un les caractères chiffré grâce à la fonction chiffreCar_cesar\n",
    "\n",
    "**ligne8** : on retourne la chaine de départ chiffrée"
   ]
  },
  {
   "cell_type": "code",
   "execution_count": 37,
   "metadata": {},
   "outputs": [],
   "source": [
    "def chiffre_cesar(chaine, cle_chiffrement):\n",

    "    chaine_chiffree = \"\"                                  \n",
    "    for char in chaine:                                 \n",
    "        chaine_chiffree += str(chiffreCar_cesar(char, cle_chiffrement)) \n",
    "    return chaine_chiffree"
   ]
  },
  {
   "cell_type": "code",
   "execution_count": 38,
   "metadata": {},
   "outputs": [
    {
     "name": "stdout",
     "output_type": "stream",
     "text": [
      "Test ok\n"
     ]
    }
   ],
   "source": [
    "# ------------  TEST/EXEMPLE ---------- #\n",
    "def test_chiffre_cesar():\n",
    "    assert chiffre_cesar(\"bonjour, il fait beau\",3)== \"erqmrxu, lo idlw ehdx\"\n",
    "    assert chiffre_cesar(\"Bonjour\",7)==\"Ivuqvby\"\n",
    "    assert chiffre_cesar(\"C'est super la cryptographie\",5)== \"H'jxy xzujw qf hwduytlwfumnj\"\n",
    "    print(\"Test ok\")\n",
    "\n",
    "test_chiffre_cesar()"
   ]
  },
  {
   "cell_type": "markdown",
   "metadata": {
    "deletable": false,
    "editable": false,
    "run_control": {
     "frozen": true
    }
   },
   "source": [
    "### Question 3\n",
    "Ecrire une fonction `dechiffre_cesar()` permettant de\n",
    "déchiffrer un message codé avec le chiffrement de César. Cette fonction prendra comme paramètres la chaîne chiffrée et la clé de chiffrement.\n",
    "\n",
    "**Remarque**: Les valeurs des clés de chiffrement et de déchiffrement sont liées : la somme de la valeur de la clé de codage et de celle de décodage est égale à 26.  Ainsi si le codage est fait avec la clé 3, le décodage se fait avec la clé 23. Si le codage est fait avec la clé 10, le décodage se fait avec la clé 16."
   ]
  },
  {
   "cell_type": "markdown",
   "metadata": {},
   "source": [
    "## Commentaires de dechiffre_cesar\n",
    "\n",
    "**ligne2** :  Les valeurs des clés de chiffrement et de déchiffrement sont liées : la somme de la valeur de la clé de codage et de celle de décodage est égale à 26\n",
    "\n",
    "**ligne3** : on réutilise chiffre_cesar pour décoder la chaine , on prend en paramètre la chaine chiffrée et la clé de déchiffrement calculée à la ligne précédente.\n",
    "\n",
    "**ligne4** : on retourne la chaine déchiffrée"
   ]
  },
  {
   "cell_type": "code",
   "execution_count": 39,
   "metadata": {},
   "outputs": [],
   "source": [
    "def dechiffre_cesar(chaine_chiffree, cle_chiffrement):\n",

    "    cle_dechiffrement = 26 - cle_chiffrement                    \n",
    "    dechiffrement = chiffre_cesar(chaine_chiffree, cle_dechiffrement)\n",
    "    return decodage"
   ]
  },
  {
   "cell_type": "code",
   "execution_count": 40,
   "metadata": {},
   "outputs": [
    {
     "name": "stdout",
     "output_type": "stream",
     "text": [
      "Test ok\n"
     ]
    }
   ],
   "source": [
    "# ------------  TEST/EXEMPLE ---------- #\n",
    "def test_dechiffre_cesar():\n",
    "    assert dechiffre_cesar(\"uryyb JBEYQ\",13)==\"hello WORLD\"\n",
    "    assert dechiffre_cesar(\"Ivuqvby\",7)==\"Bonjour\"\n",
    "    assert dechiffre_cesar(\"jgnnq YQTNF\",2)==\"hello WORLD\"\n",
    "    print(\"Test ok\")\n",
    "    \n",
    "test_dechiffre_cesar()"
   ]
  },
  {
   "cell_type": "markdown",
   "metadata": {
    "deletable": false,
    "editable": false,
    "run_control": {
     "frozen": true
    }
   },
   "source": [
    "### Question 4 : \"C'est super la cryptographie\"\n",
    "Ecrire un progamme qui vérifie que le message `C'est super la cryptographie !` chiffré avec la clé 5 donne `H'jxy xzujw qf hwduytlwfumnj !` et que le déchiffrement de cette chaîne avec la clé 5 redonne bien `C'est super la cryptographie !`."
   ]
  },
  {
   "cell_type": "markdown",
   "metadata": {},
   "source": [
    "## Commentaires de \"C'est super la cryptographie\"\n",
    "\n",
    "**ligne1** :  La variable message contient le message non chiffré.\n",
    "\n",
    "**ligne2** :  Affichage formaté du message non chiffré \n",
    "\n",
    "**ligne3** :  m_chiffre est la variable qui contiendra le message chiffré avec une clé de chiffrement de 5\n",
    "\n",
    "**ligne4** :  Affichage formaté du message chiffré\n",
    "\n",
    "**ligne5** :  m_dechiffre est la variable qui contiendra le message déchiffré avec une clé de déchiffrement de 5\n",
    "\n",
    "**ligne6** :  Affichage formaté du message déchiffré\n",
    "\n",
    "**ligne7** :  Test unitaire pour vérifier que le message déchiffré est le même que le message non chiffré"
   ]
  },
  {
   "cell_type": "code",
   "execution_count": 41,
   "metadata": {},
   "outputs": [
    {
     "name": "stdout",
     "output_type": "stream",
     "text": [
      "C'est super la cryptographie !\n",
      "Chiffrement : H'jxy xzujw qf hwduytlwfumnj !\n",
      "Dechiffrement : C'est super la cryptographie !\n"
     ]
    }
   ],
   "source": [
    "message = \"C'est super la cryptographie !\"\n",
    "print(f\"{message}\")\n",
    "m_chiffre = chiffre_cesar(message, 5)\n",
    "print(f\"Chiffrement : {m_chiffre}\")\n",
    "m_dechiffre = dechiffre_cesar(m_chiffre, 5)\n",
    "print(f\"Dechiffrement : {m_dechiffre}\")\n",
    "assert message == m_dechiffre, \"Chiffrement et/ou dechiffrement incorrect\""
   ]
  },
  {
   "cell_type": "markdown",
   "metadata": {
    "deletable": false,
    "editable": false,
    "run_control": {
     "frozen": true
    }
   },
   "source": [
    "### Question 5 : ROT 13\n",
    "\n",
    "Un cas particulier du chiffrement de César est le chiffrement [ROT13](https://fr.wikipedia.org/wiki/ROT13) qui correspond au chiffrement de César avec la clé 13. L'intérêt de ce chiffrement est que le chiffrement correspond au déchiffrement.\n",
    "Définir les fonctions `chiffre_ROT13` et `dechiffre_ROT13` en utilisant la fonction `chiffre_cesar`.\n",
    "\n",
    "Afficher le chiffrement de `hello world` selon le chiffrement ROT13. Déchiffrer le message obtenu, afficher le résultat et vérifier que c'est bien `hello word`."
   ]
  },
  {
   "cell_type": "markdown",
   "metadata": {},
   "source": [
    "## Commentaires de ROT13\n",
    "\n",
    "**ligne6** :  La variable chiffrage contient le message chiffré avec une clé de chiffrement de 13\n",
    "\n",
    "**ligne7** :  La variable dechiffrage contient le message déchiffré avec une clé de déchiffrement de 13\n",
    "\n",
    "**ligne8** :  Affichage formaté du message non chiffré, du message chiffré et du message déchiffré\n",
    "\n",
    "**ligne9** :  Test unitaire pour vérifier si le message déchiffré est égal au messsage non chiffré"
   ]
  },
  {
   "cell_type": "code",
   "execution_count": 42,
   "metadata": {},
   "outputs": [
    {
     "name": "stdout",
     "output_type": "stream",
     "text": [
      "hello world\n",
      "Chiffrement : uryyb jbeyq\n",
      "Dechiffrement : hello world\n"
     ]
    }
   ],
   "source": [
    "def chiffre_ROT13(message):\n",
    "    \"\"\"\n",
    "    : Chiffrement du message avec une clé de chiffrement de 13\n",
    "    \"\"\"\n",
    "    return chiffre_cesar(message, 13)\n",
    "def dechiffre_ROT13(message):\n",
    "    \"\"\"\n",
    "    : Déchiffrement du message avec une clé de déchiffrement de 13\n",
    "    \"\"\"\n",
    "    return chiffre_cesar(message, 13)\n",
    "\n",
    "message_non_chiffre = \"hello world\"\n",
    "chiffrage =  chiffre_ROT13(message_non_chiffre)\n",
    "dechiffrage = dechiffre_ROT13(chiffrage)\n",
    "print(f\"{message_non_chiffre}\\nChiffrement : {chiffrage}\\nDechiffrement : {dechiffrage}\")\n",
    "assert message_non_chiffre == dechiffrage"
   ]
  },
  {
   "cell_type": "markdown",
   "metadata": {
    "deletable": false,
    "editable": false,
    "run_control": {
     "frozen": true
    }
   },
   "source": [
    "### Question 6 : Vulnérabilité du code de César\n",
    "\n",
    "Le code de César est très simple, il nécessite seulement que le destinataire connaisse la clé de chiffrement. Il est également très vulnérable.\n",
    "\n",
    "Comment déchiffrer `oaz jk borrkzgtkayk` ? \n",
    "\n",
    "Ecrire une fonction `hackCesar` qui prend en paramètre un message chiffré et affiche tous les décodages possibles. \n",
    "\n",
    "Qu'est-ce qui se cache derrière le message  `oaz jk borrkzgtkayk`?"
   ]
  },
  {
   "cell_type": "markdown",
   "metadata": {},
   "source": [
    "## Commentaires de ROT13\n",
    "\n",
    "**ligne2** :  Numéro de décodage, on va réaliser au total 25 décodages car la clé est un entier compris entre 1 et 25 pour le chiffrement de César.\n",
    "Représente le n-ième décodage.\n",
    "\n",
    "**ligne3** :  On doit faire une boucle pour éviter d'écrire 25 lignes pour le déchiffrement \n",
    "\n",
    "**ligne4** :  Affichage du numéro de décodage et du décodage associé"
   ]
  },
  {
   "cell_type": "code",
   "execution_count": 45,
   "metadata": {},
   "outputs": [
    {
     "name": "stdout",
     "output_type": "stream",
     "text": [
      "1 : nzy ij anqqjyfsjzxj \n",
      "--------------------\n",
      "2 : myx hi zmppixeriywi \n",
      "--------------------\n",
      "3 : lxw gh yloohwdqhxvh \n",
      "--------------------\n",
      "4 : kwv fg xknngvcpgwug \n",
      "--------------------\n",
      "5 : jvu ef wjmmfubofvtf \n",
      "--------------------\n",
      "6 : iut de villetaneuse \n",
      "--------------------\n",
      "7 : hts cd uhkkdszmdtrd \n",
      "--------------------\n",
      "8 : gsr bc tgjjcrylcsqc \n",
      "--------------------\n",
      "9 : frq ab sfiibqxkbrpb \n",
      "--------------------\n",
      "10 : eqp za rehhapwjaqoa \n",
      "--------------------\n",
      "11 : dpo yz qdggzovizpnz \n",
      "--------------------\n",
      "12 : con xy pcffynuhyomy \n",
      "--------------------\n",
      "13 : bnm wx obeexmtgxnlx \n",
      "--------------------\n",
      "14 : aml vw naddwlsfwmkw \n",
      "--------------------\n",
      "15 : zlk uv mzccvkrevljv \n",
      "--------------------\n",
      "16 : ykj tu lybbujqdukiu \n",
      "--------------------\n",
      "17 : xji st kxaatipctjht \n",
      "--------------------\n",
      "18 : wih rs jwzzshobsigs \n",
      "--------------------\n",
      "19 : vhg qr ivyyrgnarhfr \n",
      "--------------------\n",
      "20 : ugf pq huxxqfmzqgeq \n",
      "--------------------\n",
      "21 : tfe op gtwwpelypfdp \n",
      "--------------------\n",
      "22 : sed no fsvvodkxoeco \n",
      "--------------------\n",
      "23 : rdc mn eruuncjwndbn \n",
      "--------------------\n",
      "24 : qcb lm dqttmbivmcam \n",
      "--------------------\n",
      "25 : pba kl cpsslahulbzl \n",
      "--------------------\n"
     ]
    }
   ],
   "source": [
    "def hackCesar(message_chiffre):\n",

    "    num_decodage = 1\n",
    "    while num_decodage <= 25:\n",
    "        print(num_decodage,':', dechiffre_cesar(message_chiffre, num_decodage),\"\\n--------------------\")\n",
    "        num_decodage += 1\n",
    "hackCesar(\"oaz jk borrkzgtkayk\")"
   ]
  },
  {
   "cell_type": "markdown",
   "metadata": {
    "deletable": false,
    "editable": false,
    "run_control": {
     "frozen": true
    }
   },
   "source": [
    "### Question 7 : Chiffrement d'un fichier \n",
    "\n",
    "- Ecrire une fonction `chiffre_fichier` prenant en paramètres le chemin `fichier` d'un fichier, une clé `clé` de chiffrement et le chemin d'un fichier `fichier_chiffré` et qui écrit dans `fichier_chiffré` la version chiffrée.\n",
    "\n",
    "- Tester cette fonction sur les fichiers `files/lorem.txt` puis `files/zadig.txt` avec des clés de votre choix."
   ]
  },
  {
   "cell_type": "markdown",
   "metadata": {},
   "source": [
    "## Commentaires de chiffreFichier\n",
    "### On décompose notre code entre 3 parties : \n",
    "\n",
    "#### Ouverture du fichier en lecture et stockage des lignes dans le tableau texte\n",
    "**ligne1** Ouverture du fichier file en lecture\n",
    "\n",
    "**ligne2** Lecture de ligne (ici la première) est stockée dans la variable line\n",
    "\n",
    "**ligne3** On crée un tableau vide texte qui va contenir tout le contenu du fichier file\n",
    "\n",
    "**ligne4** On reste dans la boucle tant que on arrive pas à la dernière ligne\n",
    "\n",
    "**ligne5** On ajoute au tableau texte la n-ième ligne en enlevant les \\n grâce à 'replace'\n",
    "\n",
    "**ligne6** On rappelle DANS la boucle que line est la variable qui stocke la n-ième ligne\n",
    "\n",
    "**ligne7** On oublie pas de fermer le fichier file dès que l'on a copié tout son contenu dans le tableau texte\n",
    "    \n",
    "#### Stockage des lignes chiffrées du tableau texte dans un nouveau tableau (texte_chiffre)\n",
    "**ligne1** On crée un tableau texte_chiffre qui va contenir le contenu de file qui sera chiffré\n",
    "\n",
    "**ligne2** On utilise la boucle for pour parcourir chaque ligne 'ligne' du tableau texte\n",
    "\n",
    "**ligne3** On définit ligne commme la ligne qui subit le chiffrement de césar\n",
    "\n",
    "**ligne4** On ajoute au tableau texte_chiffre la n-ieme ligne\n",
    "    \n",
    "#### Ouverture de fichier_chiffré en écriture et écriture de ce fichier à partir du tableau texte_chiffre\n",
    "**ligne1** :  Ouverture du fichier fichier_chiffre en écriture, initialement vide\n",
    "\n",
    "**ligne2** :  On utilise la boucle for pour parcourir chaque ligne 'ligne' du tableau texte_chiffre\n",
    "\n",
    "**ligne3** :  On écrit la ligne 'ligne' dans le fichier fichier_chiffre\n",
    "\n",
    "**ligne4** :  On \"écrit\" un retour à la ligne pour éviter d'avoir des lignes collés à la suite des autres\n",
    "\n",
    "**ligne5** : On oublie pas de fermer le fichier fichier_chiffre dès que l'on a copié tous les elements de texte_chiffre dans le fichier"
   ]
  },
  {
   "cell_type": "code",
   "execution_count": 53,
   "metadata": {},
   "outputs": [],
   "source": [
    "def chiffreFichier(chemin_fichier, cle_chiffrement, chemin_fichier_chiffré):\n",

    "    # Ouverture du fichier en lecture et stockage des lignes dans le tableau texte\n",
    "    file = open(chemin_fichier, \"r\")\n",
    "    line = file.readline()\n",
    "    texte = []    \n",
    "    while( '' != line ):\n",
    "        texte.append(line.replace(\"\\n\", \"\"))\n",
    "        line = file.readline()\n",
    "    file.close()\n",
    "    \n",
    "    # Stockage des lignes chiffrés du tableau texte dans un nouveau tableau (texte_chiffre)\n",
    "    texte_chiffre = []\n",
    "    for ligne in texte:\n",
    "        ligne = chiffre_cesar(ligne, cle_chiffrement)\n",
    "        texte_chiffre.append(ligne)\n",
    "    \n",
    "    # Ouverture de fichier_chiffré en écriture et écriture de ce fichier à partir du tableau texte_chiffre\n",
    "    fichier_chiffre = open(chemin_fichier_chiffré , \"w\")\n",
    "    for ligne in texte_chiffre:\n",
    "        fichier_chiffre.write(ligne)\n",
    "        fichier_chiffre.write(\"\\n\")\n",
    "    fichier_chiffre.close()  "
   ]
  },
  {
   "cell_type": "code",
   "execution_count": 54,
   "metadata": {},
   "outputs": [],
   "source": [
    "def test_chiffreFicher():\n",
    "    \"\"\"\n",
    "    Tester cette fonction sur les fichiers files/lorem.txt puis files/zadig.txt avec des clés de votre choix\n",
    "    \"\"\"\n",
    "    chiffreFichier(\"files/lorem.txt\",3,\"files/lorem_chiffré.txt\") \n",
    "    chiffreFichier(\"files/zadig.txt\", 4,\"files/zadig_chiffré.txt\")\n",
    "test_chiffreFicher()"
   ]
  },
  {
   "cell_type": "markdown",
   "metadata": {
    "deletable": false,
    "editable": false,
    "run_control": {
     "frozen": true
    }
   },
   "source": [
    "### Question 8 : Déchiffrement d'un fichier \n",
    "- Ecrire une fonction qui prend en paramètres un fichier chiffré `fichier_chiffré` et la clé de chiffrement et qui écrit dans `fichier_déchiffré` ce qui a été déchiffré.\n",
    "\n",
    "- Tester cette fonction sur les chiffrés des fichiers `files/lorem.txt` puis `files/zadig.txt` et les clés adaptées.\n",
    "\n",
    "- Vérifier dans un terminal grâce à la fonction `diff` que la version déchiffrée des fichiers est bien la même que la version d'origine. "
   ]
  },
  {
   "cell_type": "markdown",
   "metadata": {},
   "source": [
    "## Commentaires de dechiffreFichier\n",
    "\n",
    "### On décompose notre code entre 3 parties : \n",
    "     \n",
    "#### Ouverture du fichier chiffré en lecture et stockage des lignes dans le tableau texte_chiffre \n",
    "**ligne1** Ouverture du fichier file en lecture\n",
    "\n",
    "**ligne2** Lecture de ligne (ici la première) est stockée dans la variable line\n",
    "\n",
    "**ligne3** On crée un tableau vide texte_chiffre qui va contenir tout le contenu du fichier file\n",
    "\n",
    "**ligne4** On reste dans la boucle tant que on arrive pas à la dernière ligne\n",
    "\n",
    "**ligne5** On ajoute au tableau texte_chiffre la n-ième ligne en enlevant les \\n grâce à 'replace'\n",
    "\n",
    "**ligne6** On rappelle DANS la boucle que line est la variable qui stocke la n-ième ligne\n",
    "\n",
    "**ligne7** On oublie pas de fermer le fichier file dès que l'on a copié tout son contenu dans le tableau texte_chiffre\n",
    "    \n",
    "#### Stockage des lignes déchiffrées du tableau texte_chiffré dans un nouveau tableau (texte_dechiffre)\n",
    "**ligne1** On crée un tableau texte_dechiffre qui va contenir le contenu de file qui sera déchiffré\n",
    "\n",
    "**ligne2** On utilise la boucle for pour parcourir chaque ligne 'ligne' du tableau texte_chiffre\n",
    "\n",
    "**ligne3** On définit ligne commme la ligne qui subit le déchiffrement de césar\n",
    "\n",
    "**ligne4** On ajoute au tableau texte_dechiffre la n-ieme ligne\n",
    "    \n",
    "#### Ouverture de fichier_dechiffre en écriture et écriture de ce fichier à partir du tableau texte_dechiffre\n",
    "fichier_dechiffre = open(chemin_fichier_dechiffre, \"w\")\n",
    "    for ligne in texte_dechiffre:\n",
    "        fichier_dechiffre.write(ligne)\n",
    "        fichier_dechiffre.write(\"\\n\")\n",
    "    fichier_dechiffre.close() \n",
    "**ligne1** :  Ouverture du fichier fichier_dechiffre en écriture, initialement vide\n",
    "\n",
    "**ligne2** :  On utilise la boucle for pour parcourir chaque ligne 'ligne' du tableau texte_dechiffre\n",
    "\n",
    "**ligne3** :  On écrit la ligne 'ligne' dans le fichier fichier_dechiffre\n",
    "\n",
    "**ligne4** :  On \"écrit\" un retour à la ligne pour éviter d'avoir des lignes collés à la suite des autres\n",
    "\n",
    "**ligne5** : On oublie pas de fermer le fichier fichier_dechiffre dès que l'on a copié tous les elements de texte_dechiffre dans le fichier"
   ]
  },
  {
   "cell_type": "code",
   "execution_count": 55,
   "metadata": {},
   "outputs": [],
   "source": [
    "def dechiffreFichier(fichier_chiffre, cle_chiffrement, chemin_fichier_dechiffre):\n",
    "    \"\"\"\n",
    "    : Ecrire une fonction qui prend en paramètres un fichier chiffré fichier_chiffré et la clé de chiffrement \n",
    "    : et qui écrit dans fichier_déchiffré ce qui a été déchiffré.\n",
    "    : Le troisième paramètre additionnel est le chemin du chemin déchiffré chemin_fichier_dechiffre\n",
    "    \"\"\"\n",
    "    # Ouverture du fichier en lecture et stockage des lignes dans le tableau texte_chiffre\n",
    "    file = open(fichier_chiffre, \"r\")\n",
    "    line = file.readline()\n",
    "    texte_chiffre = []    \n",
    "    while( '' != line ):\n",
    "        texte_chiffre.append(line.replace(\"\\n\", \"\"))\n",
    "        line = file.readline()\n",
    "    file.close()\n",
    "    \n",
    "    # Stockage des lignes déchiffrées du tableau texte dans un nouveau tableau (texte_dechiffre)\n",
    "    texte_dechiffre = []\n",
    "    for ligne in texte_chiffre:\n",
    "        ligne = dechiffre_cesar(ligne, cle_chiffrement)\n",
    "        texte_dechiffre.append(ligne)\n",
    "    \n",
    "    # Ouverture de fichier_chiffré en écriture et écriture de ce fichier à partir du tableau texte_chiffre\n",
    "    fichier_dechiffre = open(chemin_fichier_dechiffre, \"w\")\n",
    "    for ligne in texte_dechiffre:\n",
    "        fichier_dechiffre.write(ligne)\n",
    "        fichier_dechiffre.write(\"\\n\")\n",
    "    fichier_dechiffre.close()    "
   ]
  },
  {
   "cell_type": "code",
   "execution_count": 56,
   "metadata": {},
   "outputs": [],
   "source": [
    "def test_dechiffreFicher():\n",
    "    \"\"\"\n",
    "    : Tester cette fonction sur les chiffrés des fichiers files/lorem.txt puis files/zadig.txt et les clés adaptées.\n",
    "    \"\"\"\n",
    "    dechiffreFichier(\"files/lorem_chiffré.txt\",3, \"files/lorem_déchiffré.txt\") \n",
    "    dechiffreFichier(\"files/zadig_chiffré.txt\", 4, \"files/zadig_déchiffré.txt\")\n",
    "test_dechiffreFicher()"
   ]
  },
  {
   
   "cell_type": "markdown",
   "metadata": {},
   "source": [
    "### Vérifier dans un terminal grâce à la fonction diff que la version déchiffrée des fichiers est bien la même que la version d'origine.\n",
    "\n",
    "La commande diff ne fonctionnant pas sur Windows, j'ai donc utilisé la commande fc.\n",
    "Dans les deux cas, la commande fc me dis que aucune différence n'a été trouvée:\n",
    "![fc%20windows%20command.PNG](attachment:fc%20windows%20command.PNG)\n",
    "\n",
    "Pour utiliser diff, j'ai utilisé une machine virtuelle pour avoir le terminal ubuntu.\n",
    "J'ai eu un problème avec la commande diff pour zadig et zadig_déchiffré.\n",
    "J'ai utilisé la commande meld pour comparer les fichiers lignes à lignes et j'ai obtenu ce message: \n",
    "![Capture%20d%E2%80%99%C3%A9cran%20du%202021-10-24%2012-28-41.png](attachment:Capture%20d%E2%80%99%C3%A9cran%20du%202021-10-24%2012-28-41.png)\n",
    "J'ai donc essayé de convertir les fins de lignes du fichier zadig.txt(télécharger sur github) au format UNIX (LF).\n",
    "J'ai utilisé la commande dos2unix :\n",
    "![Capture%20d%E2%80%99%C3%A9cran%20du%202021-10-24%2012-34-16.png](attachment:Capture%20d%E2%80%99%C3%A9cran%20du%202021-10-24%2012-34-16.png)\n",
    "Il faut également le faire pour le fichier lorem.txt(même si celui-ci tient sur une seule ligne)\n",
    "J'ai réessayé la commande meld et ainsi réussi à avoir des fichiers identiques que ce soit pour lorem ou zadig:\n",
    "![lorem.png](attachment:lorem.png)\n",
    "![zadig.png](attachment:zadig.png)\n",
    "J'ai testé à nouveau diff mais je n'arrive pas à règler cette erreur persistente:\n",
    "![erreur.png](attachment:erreur.png)"
   ]
  }
 ],
 "metadata": {
  "@webio": {
   "lastCommId": "c50371d2dac64fcc92a95e4a4ae17324",
   "lastKernelId": "b531d981-5992-4ac6-88e2-878a76aa508a"
  },
  "kernelspec": {
   "display_name": "Python 3",
   "language": "python",
   "name": "python3"
  },
  "language_info": {
   "codemirror_mode": {
    "name": "ipython",
    "version": 3
   },
   "file_extension": ".py",
   "mimetype": "text/x-python",
   "name": "python",
   "nbconvert_exporter": "python",
   "pygments_lexer": "ipython3",
   "version": "3.8.10"
  },
  "latex_envs": {
   "LaTeX_envs_menu_present": true,
   "autoclose": false,
   "autocomplete": true,
   "bibliofile": "biblio.bib",
   "cite_by": "apalike",
   "current_citInitial": 1,
   "eqLabelWithNumbers": true,
   "eqNumInitial": 1,
   "hotkeys": {
    "equation": "Ctrl-E",
    "itemize": "Ctrl-I"
   },
   "labels_anchors": false,
   "latex_user_defs": false,
   "report_style_numbering": false,
   "user_envs_cfg": false
  },
  "toc": {
   "base_numbering": 1,
   "nav_menu": {},
   "number_sections": true,
   "sideBar": true,
   "skip_h1_title": true,
   "title_cell": "Table des matières",
   "title_sidebar": "Table des matières",
   "toc_cell": false,
   "toc_position": {},
   "toc_section_display": true,
   "toc_window_display": false
  },
  "varInspector": {
   "cols": {
    "lenName": 16,
    "lenType": 16,
    "lenVar": 40
   },
   "kernels_config": {
    "python": {
     "delete_cmd_postfix": "",
     "delete_cmd_prefix": "del ",
     "library": "var_list.py",
     "varRefreshCmd": "print(var_dic_list())"
    },
    "r": {
     "delete_cmd_postfix": ") ",
     "delete_cmd_prefix": "rm(",
     "library": "var_list.r",
     "varRefreshCmd": "cat(var_dic_list()) "
    }
   },
   "types_to_exclude": [
    "module",
    "function",
    "builtin_function_or_method",
    "instance",
    "_Feature"
   ],
   "window_display": false
  }
 },
 "nbformat": 4,
 "nbformat_minor": 2
}
